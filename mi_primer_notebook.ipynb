{
 "cells": [
  {
   "cell_type": "code",
   "execution_count": 1,
   "id": "e0663949-1049-4635-875c-973c838b1a49",
   "metadata": {},
   "outputs": [
    {
     "name": "stdout",
     "output_type": "stream",
     "text": [
      "hola mundo\n"
     ]
    }
   ],
   "source": [
    "print(\"hola mundo\")"
   ]
  },
  {
   "cell_type": "markdown",
   "id": "72cadbaa-c1ba-419b-9680-a89fb7d36202",
   "metadata": {},
   "source": [
    "hola mundo "
   ]
  },
  {
   "cell_type": "code",
   "execution_count": null,
   "id": "f21fa846-57f2-4dab-b45d-d5e8216124f8",
   "metadata": {},
   "outputs": [],
   "source": []
  }
 ],
 "metadata": {
  "kernelspec": {
   "display_name": "Python 3 (ipykernel)",
   "language": "python",
   "name": "python3"
  },
  "language_info": {
   "codemirror_mode": {
    "name": "ipython",
    "version": 3
   },
   "file_extension": ".py",
   "mimetype": "text/x-python",
   "name": "python",
   "nbconvert_exporter": "python",
   "pygments_lexer": "ipython3",
   "version": "3.13.2"
  }
 },
 "nbformat": 4,
 "nbformat_minor": 5
}
